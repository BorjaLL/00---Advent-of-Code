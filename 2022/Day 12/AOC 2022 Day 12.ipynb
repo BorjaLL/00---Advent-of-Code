{
 "cells": [
  {
   "cell_type": "code",
   "execution_count": 19,
   "metadata": {},
   "outputs": [
    {
     "data": {
      "text/plain": [
       "[0, 0, 1, 16, 15, 14, 13, 12]"
      ]
     },
     "execution_count": 19,
     "metadata": {},
     "output_type": "execute_result"
    }
   ],
   "source": [
    "input = []\n",
    "textinput=''\n",
    "with open('day12test.txt', 'r') as file:\n",
    "    for line in file:\n",
    "        input0=[]\n",
    "        line = line.strip()\n",
    "        for char in line:\n",
    "          if char == 'E':\n",
    "            input0.append('E')\n",
    "          elif char == 'S':\n",
    "            input0.append(0)\n",
    "          else:\n",
    "            input0.append(ord(char)-97)\n",
    "        input.append(input0)\n",
    "\n",
    "input[0]"
   ]
  },
  {
   "cell_type": "code",
   "execution_count": 7,
   "metadata": {},
   "outputs": [
    {
     "data": {
      "text/plain": [
       "0"
      ]
     },
     "execution_count": 7,
     "metadata": {},
     "output_type": "execute_result"
    }
   ],
   "source": [
    "\n"
   ]
  },
  {
   "cell_type": "code",
   "execution_count": null,
   "metadata": {},
   "outputs": [],
   "source": [
    "tall = len(input)\n",
    "wide = len(input[0])\n",
    "start = [0, 0]\n",
    "paths = []\n",
    "\n",
    "\n",
    "def move(y, x,path):\n",
    "    path.append([y,x])\n",
    "    for i in [(-1, 0), (1, 0), (0, -1), (0, 1)]:\n",
    "        newx = x + i[1]\n",
    "        newy = y + i[0]\n",
    "        if 0<=newy<=tall and 0<=newx<=wide:\n",
    "            if [newy,newx] not in path or input[y][x] != 'E':\n",
    "                # print (input[y][x],input[newy][newx])\n",
    "                if input[y][x] - input[newy][newx] > -2:\n",
    "                    move(newy,newx,path)\n",
    "    return path\n",
    "        # print(newx, newy)\n",
    "path=[]\n",
    "move(start[0], start[1],start)\n"
   ]
  },
  {
   "cell_type": "code",
   "execution_count": 2,
   "metadata": {},
   "outputs": [
    {
     "name": "stdout",
     "output_type": "stream",
     "text": [
      "412\n"
     ]
    }
   ],
   "source": [
    "x = open(\"day12.txt\", \"r\").read().splitlines()\n",
    "x = [list(i) for i in x]\n",
    "\n",
    "\n",
    "from collections import deque as de\n",
    "\n",
    "\n",
    "for i in range(len(x)):\n",
    "    for r in range(len(x[0])):\n",
    "        if x[i][r] == \"S\":\n",
    "            a = (i, r)\n",
    "            x[i][r] = \"a\"\n",
    "        if x[i][r] == \"E\":\n",
    "            bb = (i, r)\n",
    "            x[i][r] = \"z\"\n",
    "\n",
    "\n",
    "q = de([(a[0], a[1], 0)])\n",
    "v = set()\n",
    "\n",
    "while q:\n",
    "    a, b, c = q.popleft()\n",
    "    if (a, b) == bb:\n",
    "        print(c)\n",
    "        break\n",
    "    if (a, b) in v:\n",
    "        continue\n",
    "    v.add((a, b))\n",
    "    for i in range(a - 1, a + 2):\n",
    "        for r in range(b - 1, b + 2):\n",
    "            if len(x) > i > 0 and len(x[0]) > r > 0 and (i == a or r == b):\n",
    "                if ord(x[i][r]) <= ord(x[a][b]) + 1:\n",
    "                    q.append((i, r, c + 1))\n"
   ]
  },
  {
   "cell_type": "code",
   "execution_count": 17,
   "metadata": {},
   "outputs": [
    {
     "name": "stdout",
     "output_type": "stream",
     "text": [
      "402\n"
     ]
    }
   ],
   "source": [
    "x = open(\"day12.txt\", \"r\").read().splitlines()\n",
    "x = [list(i) for i in x]\n",
    "\n",
    "\n",
    "from collections import deque as de\n",
    "\n",
    "\n",
    "for i in range(len(x)):\n",
    "    for r in range(len(x[0])):\n",
    "        if x[i][r] == \"S\":\n",
    "            a = (i, r)\n",
    "            x[i][r] = \"a\"\n",
    "        if x[i][r] == \"E\":\n",
    "            bb = (i, r)\n",
    "            x[i][r] = \"z\"\n",
    "\n",
    "def checkA (Y,X):\n",
    "    q = de([(Y, X, 0)])\n",
    "    v = set()\n",
    "\n",
    "    while q:\n",
    "        a, b, c = q.popleft()\n",
    "        if (a, b) == bb:\n",
    "            # print(Y,X,c)\n",
    "            return c\n",
    "            break\n",
    "        # print (a,b)\n",
    "        if (a, b) in v:\n",
    "            continue\n",
    "        v.add((a, b))\n",
    "        for i in range(a - 1, a + 2):\n",
    "            for r in range(b - 1, b + 2):\n",
    "                if len(x) > i > 0 and len(x[0]) > r > 0 and (i == a or r == b):\n",
    "                    if ord(x[i][r]) <= ord(x[a][b]) + 1:\n",
    "                        q.append((i, r, c + 1))\n",
    "\n",
    "sol2 = 500\n",
    "for var1 in range (len(x)):\n",
    "    for var2 in range (len(x[0])):\n",
    "        if x[var1][var2] == 'a':\n",
    "            var3 = checkA(var1,var2)\n",
    "            # checkA(var1,var2)\n",
    "            if var3 != None:\n",
    "                if var3 < sol2:\n",
    "                    sol2 = var3\n",
    "\n",
    "print (sol2)"
   ]
  }
 ],
 "metadata": {
  "kernelspec": {
   "display_name": "Python 3",
   "language": "python",
   "name": "python3"
  },
  "language_info": {
   "codemirror_mode": {
    "name": "ipython",
    "version": 3
   },
   "file_extension": ".py",
   "mimetype": "text/x-python",
   "name": "python",
   "nbconvert_exporter": "python",
   "pygments_lexer": "ipython3",
   "version": "3.11.0 (v3.11.0:deaf509e8f, Oct 24 2022, 14:43:23) [Clang 13.0.0 (clang-1300.0.29.30)]"
  },
  "orig_nbformat": 4,
  "vscode": {
   "interpreter": {
    "hash": "aee8b7b246df8f9039afb4144a1f6fd8d2ca17a180786b69acc140d282b71a49"
   }
  }
 },
 "nbformat": 4,
 "nbformat_minor": 2
}

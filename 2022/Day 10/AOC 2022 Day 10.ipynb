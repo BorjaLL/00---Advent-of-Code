{
 "cells": [
  {
   "cell_type": "code",
   "execution_count": 22,
   "metadata": {},
   "outputs": [],
   "source": [
    "input = []\n",
    "with open('day10test.txt', 'r') as file:\n",
    "    for line in file:\n",
    "        if len(line.strip()) == 4:\n",
    "            x=(line.strip())\n",
    "            input.append([x])\n",
    "        else:\n",
    "            x,y=(line.strip()).split()\n",
    "            input.append([x,int(y)])\n",
    "\n",
    "# input"
   ]
  },
  {
   "cell_type": "code",
   "execution_count": 25,
   "metadata": {},
   "outputs": [],
   "source": [
    "input = []\n",
    "with open('day10.txt', 'r') as file:\n",
    "    for line in file:\n",
    "        if len(line.strip()) == 4:\n",
    "            x=(line.strip())\n",
    "            input.append([x])\n",
    "        else:\n",
    "            x,y=(line.strip()).split()\n",
    "            input.append([x,int(y)])\n",
    "\n",
    "# input"
   ]
  },
  {
   "cell_type": "code",
   "execution_count": 15,
   "metadata": {},
   "outputs": [
    {
     "data": {
      "text/plain": [
       "13140"
      ]
     },
     "execution_count": 15,
     "metadata": {},
     "output_type": "execute_result"
    }
   ],
   "source": [
    "clock = 0\n",
    "reg = 1\n",
    "check = [20,60,100,140,180,220]\n",
    "sol1 = 0\n",
    "\n",
    "\n",
    "def decode(ins):\n",
    "    global clock, reg, check, sol1\n",
    "    if len(ins) == 1:\n",
    "        clock += 1\n",
    "        if clock in check:\n",
    "            # print (clock,reg)\n",
    "            sol1 += (clock * reg)\n",
    "    else:\n",
    "        for i in range (2):\n",
    "            clock += 1\n",
    "            if clock in check:\n",
    "                # print (clock,reg)\n",
    "                sol1 += (clock * reg)\n",
    "        reg += ins[1]\n",
    "\n",
    "\n",
    "\n",
    "for j in input:\n",
    "    decode (j)\n",
    "# decode(input[0])\n",
    "sol1"
   ]
  },
  {
   "cell_type": "code",
   "execution_count": 26,
   "metadata": {},
   "outputs": [
    {
     "name": "stdout",
     "output_type": "stream",
     "text": [
      "###..#..#.###....##.###..###..#.....##..\n",
      "#..#.#.#..#..#....#.#..#.#..#.#....#..#.\n",
      "#..#.##...#..#....#.###..#..#.#....#..#.\n",
      "###..#.#..###.....#.#..#.###..#....####.\n",
      "#.#..#.#..#....#..#.#..#.#....#....#..#.\n",
      "#..#.#..#.#.....##..###..#....####.#..#.\n"
     ]
    }
   ],
   "source": [
    "clock = 0\n",
    "reg = 1\n",
    "wide = 40\n",
    "high = 6\n",
    "screen = []\n",
    "\n",
    "for i in range(high):\n",
    "    screen.append([])\n",
    "    for j in range(wide):\n",
    "        screen[i].append(\".\")\n",
    "\n",
    "\n",
    "def screenVis():\n",
    "    global screen\n",
    "    for i in range(high):\n",
    "        vis = \"\"\n",
    "        for j in range(wide):\n",
    "            vis += screen[i][j]\n",
    "        print(vis)\n",
    "\n",
    "\n",
    "posy = 0\n",
    "posx = 0\n",
    "\n",
    "\n",
    "def paint():\n",
    "    global posy, posx, clock\n",
    "    if reg - 2 < posx < reg + 2:\n",
    "        screen[posy][posx] = \"#\"\n",
    "    else:\n",
    "        screen[posy][posx] = \".\"\n",
    "    clock += 1\n",
    "    if posx == 39:\n",
    "        posy += 1\n",
    "        posx = 0\n",
    "    else:\n",
    "        posx += 1\n",
    "\n",
    "\n",
    "for ins in input:\n",
    "    if len(ins) == 1:\n",
    "        paint()\n",
    "    else:\n",
    "        for i in range(2):\n",
    "            paint()\n",
    "        reg += ins[1]\n",
    "\n",
    "screenVis()\n"
   ]
  }
 ],
 "metadata": {
  "kernelspec": {
   "display_name": "Python 3",
   "language": "python",
   "name": "python3"
  },
  "language_info": {
   "codemirror_mode": {
    "name": "ipython",
    "version": 3
   },
   "file_extension": ".py",
   "mimetype": "text/x-python",
   "name": "python",
   "nbconvert_exporter": "python",
   "pygments_lexer": "ipython3",
   "version": "3.11.0"
  },
  "orig_nbformat": 4,
  "vscode": {
   "interpreter": {
    "hash": "aee8b7b246df8f9039afb4144a1f6fd8d2ca17a180786b69acc140d282b71a49"
   }
  }
 },
 "nbformat": 4,
 "nbformat_minor": 2
}

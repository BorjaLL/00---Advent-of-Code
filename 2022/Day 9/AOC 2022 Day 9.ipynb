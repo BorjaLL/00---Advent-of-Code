{
 "cells": [
  {
   "cell_type": "code",
   "execution_count": 8,
   "metadata": {},
   "outputs": [
    {
     "data": {
      "text/plain": [
       "[['R', 4],\n",
       " ['U', 4],\n",
       " ['L', 3],\n",
       " ['D', 1],\n",
       " ['R', 4],\n",
       " ['D', 1],\n",
       " ['L', 5],\n",
       " ['R', 2]]"
      ]
     },
     "execution_count": 8,
     "metadata": {},
     "output_type": "execute_result"
    }
   ],
   "source": [
    "input = []\n",
    "with open('day9test.txt', 'r') as file:\n",
    "    for line in file:\n",
    "        x,y=(line.strip()).split()\n",
    "        input.append([x,int(y)])\n",
    "\n",
    "# input"
   ]
  },
  {
   "cell_type": "code",
   "execution_count": 83,
   "metadata": {},
   "outputs": [],
   "source": [
    "input = []\n",
    "with open('day9.txt', 'r') as file:\n",
    "    for line in file:\n",
    "        x,y=(line.strip()).split()\n",
    "        input.append([x,int(y)])\n",
    "\n",
    "# input"
   ]
  },
  {
   "cell_type": "code",
   "execution_count": 54,
   "metadata": {},
   "outputs": [
    {
     "name": "stdout",
     "output_type": "stream",
     "text": [
      "sol1 = 5695\n"
     ]
    }
   ],
   "source": [
    "posS = [0,0]\n",
    "posH = [0,0]\n",
    "posT = [0,0]\n",
    "visited = {(0,0)}\n",
    "\n",
    "\n",
    "def moveH(order):\n",
    "    dir = order[0]\n",
    "    steps = order[1]\n",
    "\n",
    "    # UP\n",
    "    if dir == 'U':\n",
    "        for step in range(steps):\n",
    "            posH[0] += 1\n",
    "            moveT()\n",
    "    # DOWN\n",
    "    elif dir == 'D':\n",
    "        for step in range(steps):\n",
    "            posH[0] -= 1\n",
    "            moveT()\n",
    "    # RIGHT\n",
    "    elif dir == 'R':\n",
    "        for step in range(steps):\n",
    "            posH[1] += 1\n",
    "            moveT()\n",
    "    # LEFT\n",
    "    elif dir == 'L':\n",
    "        for step in range(steps):\n",
    "            posH[1] -= 1\n",
    "            moveT()\n",
    "\n",
    "def moveT():\n",
    "    # find out where T is with respect to H\n",
    "    if (abs(posT[0]-posH[0])) < 2 and (abs(posT[1]-posH[1])) < 2:\n",
    "        return\n",
    "        # cardinal\n",
    "    if posT[1] == posH[1]: # above or below\n",
    "        if posT[0] > posH[0]: # below\n",
    "            posT[0] -= 1\n",
    "            visited.add((posT[0],posT[1]))\n",
    "        elif posT[0] < posH[0]: # below\n",
    "            posT[0] += 1\n",
    "            visited.add((posT[0],posT[1]))\n",
    "    elif posT[0] == posH[0]:  # left or right\n",
    "        if posT[1] > posH[1]: # below\n",
    "            posT[1] -= 1\n",
    "            visited.add((posT[0],posT[1]))\n",
    "        elif posT[1] < posH[1]: # below\n",
    "            posT[1] += 1\n",
    "            visited.add((posT[0],posT[1]))       \n",
    "        \n",
    "        # diagonal\n",
    "    else:\n",
    "        # UR\n",
    "        if posT[0] < posH[0] and posT[1] < posH[1]:\n",
    "            posT[0] += 1\n",
    "            posT[1] += 1\n",
    "            visited.add((posT[0],posT[1]))\n",
    "        # UL\n",
    "        if posT[0] < posH[0] and posT[1] > posH[1]:\n",
    "            posT[0] += 1\n",
    "            posT[1] -= 1\n",
    "            visited.add((posT[0],posT[1]))  \n",
    "        # DR\n",
    "        if posT[0] > posH[0] and posT[1] < posH[1]:\n",
    "            posT[0] -= 1\n",
    "            posT[1] += 1\n",
    "            visited.add((posT[0],posT[1]))\n",
    "        # DL\n",
    "        if posT[0] > posH[0] and posT[1] > posH[1]:\n",
    "            posT[0] -= 1\n",
    "            posT[1] -= 1\n",
    "            visited.add((posT[0],posT[1]))\n",
    "\n",
    "    # move \n",
    "    \n",
    "    \n",
    "    pass\n",
    "\n",
    "\n",
    "\n",
    "for order in input:\n",
    "    # print(order, posH, posT)\n",
    "    moveH(order)\n",
    "\n",
    "print ('sol1 =',len(visited))\n",
    "#visited"
   ]
  },
  {
   "cell_type": "code",
   "execution_count": 77,
   "metadata": {},
   "outputs": [
    {
     "data": {
      "text/plain": [
       "[['R', 5],\n",
       " ['U', 8],\n",
       " ['L', 8],\n",
       " ['D', 3],\n",
       " ['R', 17],\n",
       " ['D', 10],\n",
       " ['L', 25],\n",
       " ['U', 20]]"
      ]
     },
     "execution_count": 77,
     "metadata": {},
     "output_type": "execute_result"
    }
   ],
   "source": [
    "input = []\n",
    "with open('day9test2.txt', 'r') as file:\n",
    "    for line in file:\n",
    "        x,y=(line.strip()).split()\n",
    "        input.append([x,int(y)])\n",
    "\n",
    "input"
   ]
  },
  {
   "cell_type": "code",
   "execution_count": 84,
   "metadata": {},
   "outputs": [
    {
     "name": "stdout",
     "output_type": "stream",
     "text": [
      "sol2 = 2434\n"
     ]
    }
   ],
   "source": [
    "posS = [0,0]\n",
    "nots = []\n",
    "visited = {(0,0)}\n",
    "Nnots = 10\n",
    "for i in range (Nnots):\n",
    "    nots.append([0,0])\n",
    "\n",
    "\n",
    "def moveH(order):\n",
    "    dir = order[0]\n",
    "    steps = order[1]\n",
    "\n",
    "    # UP\n",
    "    if dir == 'U':\n",
    "        for step in range(steps):\n",
    "            nots[0][0] += 1\n",
    "            moveT10()\n",
    "    # DOWN\n",
    "    elif dir == 'D':\n",
    "        for step in range(steps):\n",
    "            nots[0][0] -= 1\n",
    "            moveT10()\n",
    "    # RIGHT\n",
    "    elif dir == 'R':\n",
    "        for step in range(steps):\n",
    "            nots[0][1] += 1\n",
    "            moveT10()\n",
    "    # LEFT\n",
    "    elif dir == 'L':\n",
    "        for step in range(steps):\n",
    "            nots[0][1] -= 1\n",
    "            moveT10()\n",
    "\n",
    "def moveT(x,y,z):\n",
    "    # print (x,y)\n",
    "    # find out where T is with respect to H\n",
    "    if (abs(y[0]-x[0])) < 2 and (abs(y[1]-x[1])) < 2:\n",
    "        return y\n",
    "        # cardinal\n",
    "    if y[1] == x[1]: # above or below\n",
    "        if y[0] > x[0]: # below\n",
    "            y[0] -= 1\n",
    "        elif y[0] < x[0]: # below\n",
    "            y[0] += 1\n",
    "    elif y[0] == x[0]:  # left or right\n",
    "        if y[1] > x[1]: # below\n",
    "            y[1] -= 1\n",
    "        elif y[1] < x[1]: # below\n",
    "            y[1] += 1     \n",
    "        \n",
    "        # diagonal\n",
    "    else:\n",
    "        # UR\n",
    "        if y[0] < x[0] and y[1] < x[1]:\n",
    "            y[0] += 1\n",
    "            y[1] += 1\n",
    "        # UL\n",
    "        if y[0] < x[0] and y[1] > x[1]:\n",
    "            y[0] += 1\n",
    "            y[1] -= 1  \n",
    "        # DR\n",
    "        if y[0] > x[0] and y[1] < x[1]:\n",
    "            y[0] -= 1\n",
    "            y[1] += 1\n",
    "        # DL\n",
    "        if y[0] > x[0] and y[1] > x[1]:\n",
    "            y[0] -= 1\n",
    "            y[1] -= 1\n",
    "    if z == 8:\n",
    "        visited.add((y[0],y[1]))\n",
    "    return y\n",
    "\n",
    "def moveT10():\n",
    "    for i in range (9):\n",
    "        # print(nots[i],nots[i+1])\n",
    "        nots[i+1] = moveT(nots[i],nots[i+1],i)\n",
    "    \n",
    "\n",
    "\n",
    "\n",
    "\n",
    "for order in input:\n",
    "    # print(order, nots)\n",
    "    moveH(order)\n",
    "# moveH(['R', 5])\n",
    "print ('sol2 =',len(visited))\n",
    "#visited"
   ]
  },
  {
   "cell_type": "code",
   "execution_count": 79,
   "metadata": {},
   "outputs": [
    {
     "data": {
      "text/plain": [
       "{(0, 0), (0, 1), (0, 2), (0, 3), (0, 4), (0, 5)}"
      ]
     },
     "execution_count": 79,
     "metadata": {},
     "output_type": "execute_result"
    }
   ],
   "source": [
    "visited"
   ]
  }
 ],
 "metadata": {
  "kernelspec": {
   "display_name": "Python 3",
   "language": "python",
   "name": "python3"
  },
  "language_info": {
   "codemirror_mode": {
    "name": "ipython",
    "version": 3
   },
   "file_extension": ".py",
   "mimetype": "text/x-python",
   "name": "python",
   "nbconvert_exporter": "python",
   "pygments_lexer": "ipython3",
   "version": "3.11.0"
  },
  "orig_nbformat": 4,
  "vscode": {
   "interpreter": {
    "hash": "aee8b7b246df8f9039afb4144a1f6fd8d2ca17a180786b69acc140d282b71a49"
   }
  }
 },
 "nbformat": 4,
 "nbformat_minor": 2
}

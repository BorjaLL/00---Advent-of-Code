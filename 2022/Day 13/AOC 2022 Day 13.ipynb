{
 "cells": [
  {
   "cell_type": "code",
   "execution_count": null,
   "metadata": {},
   "outputs": [],
   "source": [
    "import json\n",
    "f = open ('day13test.txt',)\n",
    "\n",
    "data = json.load(f)\n",
    "\n",
    "\n",
    "# for i in data:\n",
    "#     print (i)\n",
    "\n",
    "# data"
   ]
  },
  {
   "cell_type": "code",
   "execution_count": 49,
   "metadata": {},
   "outputs": [
    {
     "data": {
      "text/plain": [
       "list"
      ]
     },
     "execution_count": 49,
     "metadata": {},
     "output_type": "execute_result"
    }
   ],
   "source": [
    "\n",
    "input = '''[1,1,3,1,1]\n",
    "[1,1,5,1,1]\n",
    "\n",
    "[[1],[2,3,4]]\n",
    "[[1],4]\n",
    "\n",
    "[9]\n",
    "[[8,7,6]]\n",
    "\n",
    "[[4,4],4,4]\n",
    "[[4,4],4,4,4]\n",
    "\n",
    "[7,7,7,7]\n",
    "[7,7,7]\n",
    "\n",
    "[]\n",
    "[3]\n",
    "\n",
    "[[[]]]\n",
    "[[]]\n",
    "\n",
    "[1,[2,[3,[4,[5,6,7]]]],8,9]\n",
    "[1,[2,[3,[4,[5,6,0]]]],8,9]'''\n",
    "        \n",
    "input0=[]\n",
    "for i in input.split('\\n\\n'):\n",
    "    # i=i.translate({ord(i): None for i in '[],'})\n",
    "    x,y = i.split('\\n')\n",
    "    x = eval (x)\n",
    "    y = eval (y)\n",
    "    input0.append([x,y])\n",
    "\n",
    "input0 [0]\n",
    "\n",
    "\n",
    "\n",
    "\n",
    "right = []\n",
    "\n",
    "def compare (x,y):\n",
    "    if type(x) == int and type(y) == int:\n",
    "        if x < y:\n",
    "            return True\n",
    "\n",
    "    \n",
    "    \n",
    "    return\n",
    "\n",
    "\n",
    "\n",
    "for i in range(len(input0)):\n",
    "    for j in range (len(input0[i][0]))\n",
    "        if compare(input0[i][0][j],input0[i][1][j]):\n",
    "        right.append (i+1)\n"
   ]
  },
  {
   "cell_type": "code",
   "execution_count": 50,
   "metadata": {},
   "outputs": [
    {
     "name": "stdout",
     "output_type": "stream",
     "text": [
      "4894\n"
     ]
    }
   ],
   "source": [
    "x=open(\"day13.txt\",\"r\").read().split(\"\\n\\n\")\n",
    "\n",
    "\n",
    "\n",
    "p=1\n",
    "t=0\n",
    "\n",
    "def l(a,b):\n",
    "    for i in range(min(len(a),len(b))):\n",
    "        if isinstance(a[i],int) and isinstance(b[i],int):\n",
    "            if a[i]<b[i]:return 1\n",
    "            if a[i]>b[i]:return -1\n",
    "        elif isinstance(a[i],list) and isinstance(b[i],list):\n",
    "            y=l(a[i],b[i])\n",
    "            if y!=0:return y\n",
    "        elif isinstance(a[i],int) and isinstance(b[i],list):\n",
    "            y=l([a[i]],b[i])\n",
    "            if y!=0:return y\n",
    "        elif isinstance(a[i],list) and isinstance(b[i],int):\n",
    "            y=l(a[i],[b[i]])\n",
    "            if y!=0:return y\n",
    "    if len(a)<len(b):return 1\n",
    "    if len(a)>len(b):return -1\n",
    "    return 0\n",
    "\n",
    "\n",
    "\n",
    "for i in x:\n",
    "    a,b=[eval(r) for r in i.splitlines()]\n",
    "\n",
    "    y=l(a,b)\n",
    "\n",
    "    if y==1:t+=p\n",
    "    p+=1\n",
    "\n",
    "print(t)\n"
   ]
  },
  {
   "cell_type": "code",
   "execution_count": 51,
   "metadata": {},
   "outputs": [
    {
     "name": "stdout",
     "output_type": "stream",
     "text": [
      "123\n",
      "194\n",
      "24180\n"
     ]
    }
   ],
   "source": [
    "x=open(\"day13.txt\",\"r\").read().replace(\"\\n\\n\",\"\\n\").splitlines()\n",
    "x.append(\"[[2]]\")\n",
    "x.append(\"[[6]]\")\n",
    "\n",
    "\n",
    "\n",
    "p=1\n",
    "t=0\n",
    "\n",
    "def l(a,b):\n",
    "    for i in range(min(len(a),len(b))):\n",
    "        if isinstance(a[i],int) and isinstance(b[i],int):\n",
    "            if a[i]<b[i]:return 1\n",
    "            if a[i]>b[i]:return -1\n",
    "        elif isinstance(a[i],list) and isinstance(b[i],list):\n",
    "            y=l(a[i],b[i])\n",
    "            if y!=0:return y\n",
    "        elif isinstance(a[i],int) and isinstance(b[i],list):\n",
    "            y=l([a[i]],b[i])\n",
    "            if y!=0:return y\n",
    "        elif isinstance(a[i],list) and isinstance(b[i],int):\n",
    "            y=l(a[i],[b[i]])\n",
    "            if y!=0:return y\n",
    "    if len(a)<len(b):return 1\n",
    "    if len(a)>len(b):return -1\n",
    "    return 0\n",
    "\n",
    "\n",
    "from copy import deepcopy as dp\n",
    "xx=dp(x)\n",
    "x=dp([])\n",
    "\n",
    "while dp(x) != dp(xx):\n",
    "\n",
    "    x=dp(xx)\n",
    "    xx=dp([])\n",
    "    for i in range(0,len(x),2):\n",
    "        a,b=x[i:i+2]\n",
    "        a,b=eval(a),eval(b)\n",
    "\n",
    "        y=l(a,b)\n",
    "\n",
    "        if y==1:\n",
    "            xx.append(x[i])\n",
    "            xx.append(x[i+1])\n",
    "        else:\n",
    "            xx.append(x[i+1])\n",
    "            xx.append(x[i])\n",
    "\n",
    "    x=dp(xx)\n",
    "    xx=dp([])\n",
    "    xx.append(x[0])\n",
    "    for i in range(1,len(x)-1,2):\n",
    "        a,b=x[i:i+2]\n",
    "        a,b=eval(a),eval(b)\n",
    "\n",
    "        y=l(a,b)\n",
    "\n",
    "        if y==1:\n",
    "            xx.append(x[i])\n",
    "            xx.append(x[i+1])\n",
    "        else:\n",
    "            xx.append(x[i+1])\n",
    "            xx.append(x[i])\n",
    "    xx.append(x[-1])\n",
    "\n",
    "\n",
    "print(xx.index(\"[[2]]\"))\n",
    "print(xx.index(\"[[6]]\"))\n",
    "print((xx.index(\"[[2]]\")+1)*(xx.index(\"[[6]]\")+1))\n",
    "\n"
   ]
  }
 ],
 "metadata": {
  "kernelspec": {
   "display_name": "Python 3",
   "language": "python",
   "name": "python3"
  },
  "language_info": {
   "codemirror_mode": {
    "name": "ipython",
    "version": 3
   },
   "file_extension": ".py",
   "mimetype": "text/x-python",
   "name": "python",
   "nbconvert_exporter": "python",
   "pygments_lexer": "ipython3",
   "version": "3.11.0"
  },
  "orig_nbformat": 4,
  "vscode": {
   "interpreter": {
    "hash": "aee8b7b246df8f9039afb4144a1f6fd8d2ca17a180786b69acc140d282b71a49"
   }
  }
 },
 "nbformat": 4,
 "nbformat_minor": 2
}

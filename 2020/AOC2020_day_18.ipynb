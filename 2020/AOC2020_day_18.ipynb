{
  "nbformat": 4,
  "nbformat_minor": 0,
  "metadata": {
    "colab": {
      "name": "AOC2020 day 18.ipynb",
      "provenance": [],
      "mount_file_id": "1FNctuNKQWHTW8Dp-2HhwHdyfxkoTVxXU",
      "authorship_tag": "ABX9TyPKTrP6pX3UjoU77pinvTK7",
      "include_colab_link": true
    },
    "kernelspec": {
      "name": "python3",
      "display_name": "Python 3"
    }
  },
  "cells": [
    {
      "cell_type": "markdown",
      "metadata": {
        "id": "view-in-github",
        "colab_type": "text"
      },
      "source": [
        "<a href=\"https://colab.research.google.com/github/BorjaLL/00---Advent-of-Code/blob/main/2020/AOC2020_day_18.ipynb\" target=\"_parent\"><img src=\"https://colab.research.google.com/assets/colab-badge.svg\" alt=\"Open In Colab\"/></a>"
      ]
    },
    {
      "cell_type": "code",
      "metadata": {
        "colab": {
          "base_uri": "https://localhost:8080/"
        },
        "id": "_Ihb3nV01pQT",
        "outputId": "b397ddcf-fbaa-40a0-dcc0-b45636da6085"
      },
      "source": [
        "#mount gdrive first\n",
        "import sys,os\n",
        "#print(sys.path)\n",
        "#print(\"Current Working Directory \" , os.getcwd())\n",
        "sys.path.insert(0,'/content/drive/MyDrive/Colab Notebooks/')\n",
        "\n",
        "from utils import advent\n",
        "\n",
        "\n",
        "os.chdir(\"/content/drive/MyDrive/Colab Notebooks/AOC 2020/\")\n",
        "#os.path.isfile('secret_session_cookie')\n",
        "\n",
        "advent.setup(2020, 18)\n",
        "fin = advent.get_input()"
      ],
      "execution_count": null,
      "outputs": [
        {
          "output_type": "stream",
          "text": [
            "[advent] Getting input for year 2020 day 18... done (from disk).\n"
          ],
          "name": "stderr"
        }
      ]
    },
    {
      "cell_type": "code",
      "metadata": {
        "colab": {
          "base_uri": "https://localhost:8080/"
        },
        "id": "6TihGoSv2ON0",
        "outputId": "5b20aa19-a0d2-4ad3-8d50-7212e5f9acf7"
      },
      "source": [
        "test_input =\"\"\"1 + (2 * 3) + (4 * (5 + 6))\n",
        "2 * 3 + (4 * 5)\n",
        "5 + (8 * 3 + 9 + 3 * 4 * 3)\n",
        "5 * 9 * (7 * 3 * 3 + 9 * 3 + (8 + 6 * 4))\n",
        "((2 + 4 * 9) * (6 + 9 * 8 + 6) + 6) + 2 + 4 * 2\"\"\".split('\\n')\n",
        "\n",
        "import re\n",
        "numregex = re.compile(r'((\\d)+(?:\\s)(\\D)(?:\\s)(\\d)+)')\n",
        "sum_sol = 0\n",
        "def find_par(s,*pos):\n",
        "  global sum_sol\n",
        "  if pos == ():\n",
        "    pos = 0\n",
        "  else:\n",
        "    pos = pos[0]\n",
        "  \n",
        "  new_pos = s.find('(',pos)\n",
        "  if new_pos == -1:\n",
        "    end_pos = s.find(')',pos+1)\n",
        "    if end_pos == -1:\n",
        "      sum_sol += weird_math (s)\n",
        "      return \n",
        "    op = s[pos: end_pos]\n",
        "    result = weird_math(op)\n",
        "    #print (op, result)\n",
        "    s= s[0:pos-1]+ str(result) + s[end_pos+1:]\n",
        "    #print (s)\n",
        "    find_par(s)\n",
        "    return s\n",
        "  else:\n",
        "    find_par(s,new_pos+1)\n",
        "def weird_math (s):\n",
        "  while True:\n",
        "    vop=numregex.search (s)\n",
        "    vresult = eval(vop.group(0))\n",
        "    #print (vop.group(0),vresult )\n",
        "    vnext = s.find(vop.group(0))\n",
        "    vpos = len (vop.group(0))\n",
        "    if len (s) == len (vop.group(0)):\n",
        "      return vresult\n",
        "    s = str(vresult) + s[vnext+vpos:]\n",
        "\n",
        "\n",
        "\n",
        "#if False:\"\"\"\"\n",
        "for i in test_input:\n",
        "    sum_sol = 0\n",
        "    find_par(i)\n",
        "    print(sum_sol)\n",
        "#\"\"\"\"\n",
        "\n",
        "#find_par ('((2 + 4 * 9) * (6 + 9 * 8 + 6) + 6) + 2 + 4 * 2')\n",
        "#print(sum_sol)\n",
        "\n",
        "\n"
      ],
      "execution_count": null,
      "outputs": [
        {
          "output_type": "stream",
          "text": [
            "51\n",
            "26\n",
            "437\n",
            "12240\n",
            "13632\n"
          ],
          "name": "stdout"
        }
      ]
    },
    {
      "cell_type": "code",
      "metadata": {
        "colab": {
          "base_uri": "https://localhost:8080/"
        },
        "id": "09M1Kr1O9lJO",
        "outputId": "0913d1ed-b637-4de1-d436-e14704c65978"
      },
      "source": [
        "\n",
        "test_input =list(map(str.rstrip, advent.get_input()))\n",
        "#print (test_input)\n",
        "import re\n",
        "numregex = re.compile(r'((\\d)+(?:\\s)(\\D)(?:\\s)(\\d)+)')\n",
        "sum_sol = 0\n",
        "def find_par(s,*pos):\n",
        "  global sum_sol\n",
        "  if pos == ():\n",
        "    pos = 0\n",
        "  else:\n",
        "    pos = pos[0]\n",
        "  \n",
        "  new_pos = s.find('(',pos)\n",
        "  if new_pos == -1:\n",
        "    end_pos = s.find(')',pos+1)\n",
        "    if end_pos == -1:\n",
        "      sum_sol += weird_math (s)\n",
        "      return \n",
        "    op = s[pos: end_pos]\n",
        "    result = weird_math(op)\n",
        "    #print (op, result)\n",
        "    s= s[0:pos-1]+ str(result) + s[end_pos+1:]\n",
        "    #print (s)\n",
        "    find_par(s)\n",
        "    return s\n",
        "  else:\n",
        "    find_par(s,new_pos+1)\n",
        "def weird_math (s):\n",
        "  while True:\n",
        "    vop=numregex.search (s)\n",
        "    vresult = eval(vop.group(0))\n",
        "    #print (vop.group(0),vresult )\n",
        "    vnext = s.find(vop.group(0))\n",
        "    vpos = len (vop.group(0))\n",
        "    if len (s) == len (vop.group(0)):\n",
        "      return vresult\n",
        "    s = str(vresult) + s[vnext+vpos:]\n",
        "\n",
        "\n",
        "\n",
        "#if False:\"\"\"\"\n",
        "for i in test_input:\n",
        "    #sum_sol = 0\n",
        "    find_par(i)\n",
        "print(sum_sol)\n",
        "#\"\"\"\"\n",
        "\n",
        "#find_par ('((2 + 4 * 9) * (6 + 9 * 8 + 6) + 6) + 2 + 4 * 2')\n",
        "#print(sum_sol)\n",
        "\n",
        "\n"
      ],
      "execution_count": null,
      "outputs": [
        {
          "output_type": "stream",
          "text": [
            "[advent] Getting input for year 2020 day 18... done (from disk).\n"
          ],
          "name": "stderr"
        },
        {
          "output_type": "stream",
          "text": [
            "4297397455886\n"
          ],
          "name": "stdout"
        }
      ]
    },
    {
      "cell_type": "markdown",
      "metadata": {
        "id": "Y8-kpSn7PMNF"
      },
      "source": [
        "part 2"
      ]
    },
    {
      "cell_type": "code",
      "metadata": {
        "colab": {
          "base_uri": "https://localhost:8080/"
        },
        "id": "i_Ix3H44PNQG",
        "outputId": "4bdf023b-bea6-41ea-b51c-6b9c1601aff0"
      },
      "source": [
        "\n",
        "test_input =list(map(str.rstrip, advent.get_input()))\n",
        "#print (test_input)\n",
        "import re\n",
        "numregex_st = re.compile(r'(\\d+\\s[+|-]\\s\\d+)')\n",
        "numregex_nd = re.compile(r'(\\d+\\s[*|\\/]\\s\\d+)')\n",
        "\n",
        "sum_sol = 0\n",
        "def find_par(s,*pos):\n",
        "  global sum_sol\n",
        "  if pos == ():\n",
        "    pos = 0\n",
        "  else:\n",
        "    pos = pos[0]\n",
        "  \n",
        "  new_pos = s.find('(',pos)\n",
        "  if new_pos == -1:\n",
        "    end_pos = s.find(')',pos+1)\n",
        "    if end_pos == -1:\n",
        "      #print(s)\n",
        "      sum_sol += (weird_math (s))\n",
        "      return \n",
        "    op = s[pos: end_pos]\n",
        "    result = weird_math(op)\n",
        "    #print (op, result)\n",
        "    s= s[0:pos-1]+ str(result) + s[end_pos+1:]\n",
        "    #print (s)\n",
        "    find_par(s)\n",
        "    return s\n",
        "  else:\n",
        "    find_par(s,new_pos+1)\n",
        "def weird_math (s):\n",
        "  while True:\n",
        "    vop=numregex_st.search (s)\n",
        "    #print (vop)\n",
        "    if vop == None:\n",
        "      vop=numregex_nd.search (s)\n",
        "      if vop == None:\n",
        "        vresult = int(s)\n",
        "        return vresult\n",
        "    vresult = eval(vop.group(0))\n",
        "    #print (vop.group(0),vresult )\n",
        "    vnext = s.find(vop.group(0))\n",
        "    vpos = len (vop.group(0))\n",
        "    if len (s) == len (vop.group(0)):\n",
        "      return vresult\n",
        "    s = s[0:vnext]+str(vresult) + s[vnext+vpos:]\n",
        "    #print (s)\n",
        "    #print('\\n')\n",
        "\n",
        "\n",
        "\n",
        "#if False:\"\"\"\"\n",
        "for i in test_input:\n",
        "  #sum_sol = 0\n",
        "  find_par(i)\n",
        "  #print(sum_sol)\n",
        "#\"\"\"\n",
        "\n",
        "#find_par ('1 + 2 * 3 + 4 * 5 + 6')\n",
        "print(sum_sol)\n",
        "\n",
        "\n"
      ],
      "execution_count": null,
      "outputs": [
        {
          "output_type": "stream",
          "text": [
            "[advent] Getting input for year 2020 day 18... done (from disk).\n"
          ],
          "name": "stderr"
        },
        {
          "output_type": "stream",
          "text": [
            "93000656194428\n"
          ],
          "name": "stdout"
        }
      ]
    },
    {
      "cell_type": "code",
      "metadata": {
        "colab": {
          "base_uri": "https://localhost:8080/",
          "height": 588
        },
        "id": "TVJvh6htjZzq",
        "outputId": "a6a29667-b8f2-4dbc-dec3-9f16e6e8eeb0"
      },
      "source": [
        "import re\n",
        "numregex_st = re.compile(r'(\\d+\\s[+|-]\\s\\d+)')\n",
        "numregex_nd = re.compile(r'(\\d+\\s[*|\\/]\\s\\d+)')\n",
        "\n",
        "s='1 + 2 * 3 + 4 * 5 + 6'\n",
        "\n",
        "while True:\n",
        "    vop=numregex_st.search (s)\n",
        "    #print (vop)\n",
        "    if vop == None:\n",
        "      vop=numregex_nd.search (s)\n",
        "      #if vop == None\n",
        "    vresult = eval(vop.group(0))\n",
        "    print (vop.group(0),vresult )\n",
        "    vnext = s.find(vop.group(0))\n",
        "    vpos = len (vop.group(0))\n",
        "    if len (s) == len (vop.group(0)):\n",
        "      print( vresult) #return\n",
        "    s = s[0:vnext]+str(vresult) + s[vnext+vpos:]\n",
        "    print (s)\n",
        "    print('\\n')\n",
        "\n"
      ],
      "execution_count": null,
      "outputs": [
        {
          "output_type": "stream",
          "text": [
            "1 + 2 3\n",
            "3 * 3 + 4 * 5 + 6\n",
            "\n",
            "\n",
            "3 + 4 7\n",
            "3 * 7 * 5 + 6\n",
            "\n",
            "\n",
            "5 + 6 11\n",
            "3 * 7 * 11\n",
            "\n",
            "\n",
            "3 * 7 21\n",
            "21 * 11\n",
            "\n",
            "\n",
            "21 * 11 231\n",
            "231\n",
            "231\n",
            "\n",
            "\n"
          ],
          "name": "stdout"
        },
        {
          "output_type": "error",
          "ename": "AttributeError",
          "evalue": "ignored",
          "traceback": [
            "\u001b[0;31m---------------------------------------------------------------------------\u001b[0m",
            "\u001b[0;31mAttributeError\u001b[0m                            Traceback (most recent call last)",
            "\u001b[0;32m<ipython-input-134-def5a6855aff>\u001b[0m in \u001b[0;36m<module>\u001b[0;34m()\u001b[0m\n\u001b[1;32m     11\u001b[0m       \u001b[0mvop\u001b[0m\u001b[0;34m=\u001b[0m\u001b[0mnumregex_nd\u001b[0m\u001b[0;34m.\u001b[0m\u001b[0msearch\u001b[0m \u001b[0;34m(\u001b[0m\u001b[0ms\u001b[0m\u001b[0;34m)\u001b[0m\u001b[0;34m\u001b[0m\u001b[0;34m\u001b[0m\u001b[0m\n\u001b[1;32m     12\u001b[0m       \u001b[0;31m#if vop == None\u001b[0m\u001b[0;34m\u001b[0m\u001b[0;34m\u001b[0m\u001b[0;34m\u001b[0m\u001b[0m\n\u001b[0;32m---> 13\u001b[0;31m     \u001b[0mvresult\u001b[0m \u001b[0;34m=\u001b[0m \u001b[0meval\u001b[0m\u001b[0;34m(\u001b[0m\u001b[0mvop\u001b[0m\u001b[0;34m.\u001b[0m\u001b[0mgroup\u001b[0m\u001b[0;34m(\u001b[0m\u001b[0;36m0\u001b[0m\u001b[0;34m)\u001b[0m\u001b[0;34m)\u001b[0m\u001b[0;34m\u001b[0m\u001b[0;34m\u001b[0m\u001b[0m\n\u001b[0m\u001b[1;32m     14\u001b[0m     \u001b[0mprint\u001b[0m \u001b[0;34m(\u001b[0m\u001b[0mvop\u001b[0m\u001b[0;34m.\u001b[0m\u001b[0mgroup\u001b[0m\u001b[0;34m(\u001b[0m\u001b[0;36m0\u001b[0m\u001b[0;34m)\u001b[0m\u001b[0;34m,\u001b[0m\u001b[0mvresult\u001b[0m \u001b[0;34m)\u001b[0m\u001b[0;34m\u001b[0m\u001b[0;34m\u001b[0m\u001b[0m\n\u001b[1;32m     15\u001b[0m     \u001b[0mvnext\u001b[0m \u001b[0;34m=\u001b[0m \u001b[0ms\u001b[0m\u001b[0;34m.\u001b[0m\u001b[0mfind\u001b[0m\u001b[0;34m(\u001b[0m\u001b[0mvop\u001b[0m\u001b[0;34m.\u001b[0m\u001b[0mgroup\u001b[0m\u001b[0;34m(\u001b[0m\u001b[0;36m0\u001b[0m\u001b[0;34m)\u001b[0m\u001b[0;34m)\u001b[0m\u001b[0;34m\u001b[0m\u001b[0;34m\u001b[0m\u001b[0m\n",
            "\u001b[0;31mAttributeError\u001b[0m: 'NoneType' object has no attribute 'group'"
          ]
        }
      ]
    }
  ]
}
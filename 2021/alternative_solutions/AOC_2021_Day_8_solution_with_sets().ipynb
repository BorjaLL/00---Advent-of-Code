{
  "nbformat": 4,
  "nbformat_minor": 0,
  "metadata": {
    "colab": {
      "name": "AOC 2021 Day 8 solution with sets().ipynb",
      "provenance": [],
      "collapsed_sections": [],
      "authorship_tag": "ABX9TyPhJhdTJMy9ay+PJ1d/uA3y",
      "include_colab_link": true
    },
    "kernelspec": {
      "name": "python3",
      "display_name": "Python 3"
    },
    "language_info": {
      "name": "python"
    }
  },
  "cells": [
    {
      "cell_type": "markdown",
      "metadata": {
        "id": "view-in-github",
        "colab_type": "text"
      },
      "source": [
        "<a href=\"https://colab.research.google.com/github/BorjaLL/00---Advent-of-Code/blob/main/2021/alternative_solutions/AOC_2021_Day_8_solution_with_sets().ipynb\" target=\"_parent\"><img src=\"https://colab.research.google.com/assets/colab-badge.svg\" alt=\"Open In Colab\"/></a>"
      ]
    },
    {
      "cell_type": "code",
      "execution_count": null,
      "metadata": {
        "id": "KdkmEYrvBwgC"
      },
      "outputs": [],
      "source": [
        ""
      ]
    },
    {
      "cell_type": "code",
      "source": [
        "from functools import reduce\n",
        "\n",
        "with open('data.txt') as f:\n",
        "    data = [i[:-1].split(' | ') for i in f.readlines()]\n",
        "\n",
        "easy_lengths = {\n",
        "    2 : 1,\n",
        "    3 : 7,\n",
        "    4 : 4,\n",
        "    7 : 8\n",
        "}\n",
        "\n",
        "num_segments = {\n",
        "    0 : (0, 1, 2, 4, 5, 6),\n",
        "    1 : (2, 5),\n",
        "    2 : (0, 2, 3, 4, 6),\n",
        "    3 : (0, 2, 3, 5, 6),\n",
        "    4 : (1, 2, 3, 5),\n",
        "    5 : (0, 1, 3, 5, 6),\n",
        "    6 : (0, 1, 3, 4, 5, 6),\n",
        "    7 : (0, 2, 5),\n",
        "    8 : (0, 1, 2, 3, 4, 5, 6),\n",
        "    9 : (0, 1, 2, 3, 5, 6)\n",
        "}\n",
        "\n",
        "rev_num_segments = {v:k for (k,v) in num_segments.items()}\n",
        "\n",
        "'''LOGIC''' \"\"\"\n",
        "\n",
        " 0000\n",
        "1    2\n",
        "1    2\n",
        " 3333\n",
        "4    5\n",
        "4    5\n",
        " 6666\n",
        "let c be a character.\n",
        "if c is in both 1 and 7, then it's either 2 or 5\n",
        "if c is in 4 but not 1 or 7, then it's either 1 or 3\n",
        "if c is in 7 but not 1, then it's 0\n",
        "if c is in 8 but not 7 or 4, then it's either 4 or 6\n",
        "3 is present in all 5-length strings and in 4 \n",
        "if the length of a string is 6 and it has 0, 2, 3, and 5 in it, it must be 9 -> 4 is missing from it\n",
        "    (so we can get 6 by process of elimination from before)\n",
        "otherwise, if the length is 6 and it has 0 but only one of 2 or 5, it must be 6, which has 2 missing\n",
        "    (so we can get 5 by process of elimination from before)\n",
        "lastly we can get 1 by POE from previous results\n",
        "\"\"\"\n",
        "\n",
        "def overlap_parser(nums, easy_nums):\n",
        "    flat_first_easy = [x[0] for x in easy_nums]\n",
        "    potentials = {}\n",
        "    one_chars = flat_first_easy[0][1] # 1\n",
        "    # print('one chars', one_chars)\n",
        "    sev_chars = flat_first_easy[1][1] # 7\n",
        "    # print('sev chars', sev_chars)\n",
        "    zero = list(set(sev_chars) - set(one_chars))[0]\n",
        "    potentials[(2,5)] = list(set(sev_chars) & set(one_chars))\n",
        "    four_chars = flat_first_easy[2][1] # 4\n",
        "    # print('four chars', four_chars)\n",
        "    potentials[(1,3)] = list(set(four_chars) - set(sev_chars))\n",
        "    eight_chars = flat_first_easy[3][1] # 8\n",
        "    # print('eight chars', eight_chars)\n",
        "    potentials[(4,6)] = list(set(eight_chars) - (set(four_chars) | set(sev_chars)))\n",
        "    # print('nums', nums)\n",
        "    fives = [x for x in nums if len(x) == 5]\n",
        "    THREE = set(fives[0])\n",
        "    for num in fives:\n",
        "        THREE &= (set(num) - {zero})\n",
        "    THREE &= set(four_chars)\n",
        "    three = list(THREE)[0]\n",
        "    for num in nums:\n",
        "        if len(num) == 6:\n",
        "            if all(i in num for i in set(potentials[(2,5)]) | {zero}): # could be zero or 9\n",
        "                if three in num: # must be 9\n",
        "                    four = list(set(eight_chars) - set(num))[0]\n",
        "                    six = list(set(potentials[(4,6)]) - {four})[0]\n",
        "            elif zero in num and any(i in num for i in potentials[(2,5)]): # must be 6\n",
        "                two = list(set(eight_chars) - set(num))[0]\n",
        "                five = list(set(potentials[(2,5)]) - {two})[0]\n",
        "    one = list(set(eight_chars) - set([zero, two, three, four, five, six]))[0]\n",
        "    # print('potentials', potentials)\n",
        "    # print('zero', zero, 'one', one, 'two', two, 'three', three, 'four', four, 'five', five, 'six', six)\n",
        "    arrangement = {\n",
        "        zero    : 0,\n",
        "        one     : 1,\n",
        "        two     : 2,\n",
        "        three   : 3,\n",
        "        four    : 4,\n",
        "        five    : 5,\n",
        "        six     : 6\n",
        "    }\n",
        "    # print('arrangement:',arrangement)\n",
        "    return arrangement\n",
        "\n",
        "def number(l, arrangement):\n",
        "    split = l.split(' ')\n",
        "    # print(split)\n",
        "    unique_char_lists = [list(s) for s in split]\n",
        "    # print(unique_char_lists)\n",
        "    rns = [tuple(sorted(arrangement[x] for x in q)) for q in unique_char_lists]\n",
        "    # print(rns)\n",
        "    return [rev_num_segments[p] for p in rns]\n",
        "\n",
        "# determine where easy num lengths correspond to\n",
        "def convert(line):\n",
        "    left, right = line\n",
        "    entire_string = left + ' ' + right\n",
        "    charsets = entire_string.split(' ')\n",
        "    #charsets =[]\n",
        "    #charsets+=line[0]\n",
        "    #charsets+=line[1]\n",
        "    #print(charsets)\n",
        "    easy_nums = [[(j,i) for i in charsets if (len(i) in easy_lengths) and easy_lengths[len(i)] == j] \n",
        "                    for j in [1,7,4,8]]\n",
        "    \n",
        "    # print('charsets:',charsets)\n",
        "    nums = [i for i in charsets if (len(i) not in easy_lengths)]\n",
        "    #print(easy_nums)\n",
        "    arrangement = overlap_parser(nums, easy_nums)\n",
        "    digits = [str(i) for i in number(right, arrangement)]\n",
        "    digits = reduce(lambda x,y:x+y, digits)\n",
        "    # print(digits)\n",
        "    return int(digits)\n",
        "\n",
        "#print(data)\n",
        "print(convert(['acedgfb cdfbe gcdfa fbcad dab cefabd cdfgeb eafb cagedb ab', 'cdfeb fcadb cdfeb cdbaf']))\n",
        "# print(convert(data[0]))\n",
        "\n",
        "#print(sum(convert(line) for line in data))\n",
        "# print(data)\n"
      ],
      "metadata": {
        "colab": {
          "base_uri": "https://localhost:8080/"
        },
        "id": "B_LSZ3PcBz4g",
        "outputId": "fc7c6806-6c9b-4f36-cb7a-efbe4fc59c26"
      },
      "execution_count": null,
      "outputs": [
        {
          "output_type": "stream",
          "name": "stdout",
          "text": [
            "[[(1, 'ab')], [(7, 'dab')], [(4, 'eafb')], [(8, 'acedgfb')]]\n",
            "5353\n"
          ]
        }
      ]
    },
    {
      "cell_type": "code",
      "source": [
        "charsets = ['acedgfb', 'cdfbe', 'gcdfa', 'fbcad', 'dab', 'cefabd', 'cdfgeb', 'eafb', 'cagedb', 'ab', 'cdfeb', 'fcadb', 'cdfeb', 'cdbaf']\n",
        "easy_nums=[]\n",
        "for j in [1,7,4,8]:\n",
        "        for i in charsets:\n",
        "          if (len(i) in easy_lengths) and easy_lengths[len(i)] == j:\n",
        "            easy_nums+=[(j,i)]\n",
        "nums = [i for i in charsets if (len(i) not in easy_lengths)]\n",
        "\n",
        "easy_nums"
      ],
      "metadata": {
        "colab": {
          "base_uri": "https://localhost:8080/"
        },
        "id": "nrnTTD06UV56",
        "outputId": "f3308342-d4f8-4322-da08-f10036bb6e7a"
      },
      "execution_count": null,
      "outputs": [
        {
          "output_type": "execute_result",
          "data": {
            "text/plain": [
              "[(1, 'ab'), (7, 'dab'), (4, 'eafb'), (8, 'acedgfb')]"
            ]
          },
          "metadata": {},
          "execution_count": 28
        }
      ]
    },
    {
      "cell_type": "code",
      "source": [
        "flat_first_easy = [x for x in easy_nums]\n",
        "#print(flat_first_easy)\n",
        "potentials = {}\n",
        "one_chars = flat_first_easy[0][1] # 1\n",
        "print('one chars', one_chars)\n",
        "sev_chars = flat_first_easy[1][1] # 7\n",
        "print('sev chars', sev_chars)\n",
        "zero = list(set(sev_chars) - set(one_chars))[0]\n",
        "print(\"zero\",zero)\n",
        "potentials[(2,5)] = list(set(sev_chars) & set(one_chars))\n",
        "print('potentials[(2,5)]', potentials[(2,5)])\n",
        "four_chars = flat_first_easy[2][1] # 4\n",
        "print('four chars', four_chars)\n",
        "potentials[(1,3)] = list(set(four_chars) - set(sev_chars))\n",
        "print('potentials[(1,3)]', potentials[(1,3)])\n",
        "eight_chars = flat_first_easy[3][1] # 8\n",
        "# print('eight chars', eight_chars)\n",
        "potentials[(4,6)] = list(set(eight_chars) - (set(four_chars) | set(sev_chars)))\n",
        "print('potentials[(4,6)]', potentials[(4,6)])\n",
        "# print('nums', nums)\n",
        "fives = [x for x in nums if len(x) == 5]\n",
        "THREE = set(fives[0])\n",
        "for num in fives:\n",
        "    THREE &= (set(num) - {zero})\n",
        "THREE &= set(four_chars)\n",
        "three = list(THREE)[0]\n",
        "for num in nums:\n",
        "    if len(num) == 6:\n",
        "        if all(i in num for i in set(potentials[(2,5)]) | {zero}): # could be zero or 9\n",
        "            if three in num: # must be 9\n",
        "                four = list(set(eight_chars) - set(num))[0]\n",
        "                six = list(set(potentials[(4,6)]) - {four})[0]\n",
        "        elif zero in num and any(i in num for i in potentials[(2,5)]): # must be 6\n",
        "            two = list(set(eight_chars) - set(num))[0]\n",
        "            five = list(set(potentials[(2,5)]) - {two})[0]\n",
        "one = list(set(eight_chars) - set([zero, two, three, four, five, six]))[0]\n",
        "# print('potentials', potentials)\n",
        "# print('zero', zero, 'one', one, 'two', two, 'three', three, 'four', four, 'five', five, 'six', six)\n",
        "arrangement = {\n",
        "    zero    : 0,\n",
        "    one     : 1,\n",
        "    two     : 2,\n",
        "    three   : 3,\n",
        "    four    : 4,\n",
        "    five    : 5,\n",
        "    six     : 6\n",
        "}\n",
        "print('arrangement:',arrangement)\n"
      ],
      "metadata": {
        "colab": {
          "base_uri": "https://localhost:8080/"
        },
        "id": "8wbjZFu6W8Qu",
        "outputId": "820774d8-fc1d-4561-e1bc-6385e05cf886"
      },
      "execution_count": null,
      "outputs": [
        {
          "output_type": "stream",
          "name": "stdout",
          "text": [
            "one chars ab\n",
            "sev chars dab\n",
            "zero d\n",
            "potentials[(2,5)] ['b', 'a']\n",
            "four chars eafb\n",
            "potentials[(1,3)] ['e', 'f']\n",
            "potentials[(4,6)] ['g', 'c']\n",
            "arrangement: {'d': 0, 'e': 1, 'a': 2, 'f': 3, 'g': 4, 'b': 5, 'c': 6}\n"
          ]
        }
      ]
    },
    {
      "cell_type": "code",
      "source": [
        "vfives = [x for x in nums if len(x) == 5]\n",
        "#print (vfives) #['cdfbe', 'gcdfa', 'fbcad', 'cdfeb', 'fcadb', 'cdfeb', 'cdbaf']\n",
        "vTHREE = set(vfives[0]) #{'e', 'b', 'd', 'c', 'f'}\n",
        "for num in vfives:\n",
        "  print(num,zero, set(num)-set(zero))\n",
        "  vTHREE &= (set(num) - {zero})\n",
        "  print(vTHREE)\n",
        "vTHREE &= set(four_chars)\n",
        "print (vTHREE)\n",
        "vthree = list(vTHREE)[0]"
      ],
      "metadata": {
        "colab": {
          "base_uri": "https://localhost:8080/"
        },
        "id": "p-e_xJ1dZ7wZ",
        "outputId": "f4843792-6a59-4fc5-e14f-064079ee9dbf"
      },
      "execution_count": null,
      "outputs": [
        {
          "output_type": "stream",
          "name": "stdout",
          "text": [
            "cdfbe d {'e', 'b', 'f', 'c'}\n",
            "{'e', 'b', 'f', 'c'}\n",
            "gcdfa d {'f', 'g', 'c', 'a'}\n",
            "{'f', 'c'}\n",
            "fbcad d {'b', 'f', 'c', 'a'}\n",
            "{'f', 'c'}\n",
            "cdfeb d {'e', 'b', 'f', 'c'}\n",
            "{'f', 'c'}\n",
            "fcadb d {'b', 'f', 'c', 'a'}\n",
            "{'f', 'c'}\n",
            "cdfeb d {'e', 'b', 'f', 'c'}\n",
            "{'f', 'c'}\n",
            "cdbaf d {'b', 'f', 'c', 'a'}\n",
            "{'f', 'c'}\n",
            "{'f'}\n"
          ]
        }
      ]
    }
  ]
}
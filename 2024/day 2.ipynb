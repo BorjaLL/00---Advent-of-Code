{
 "cells": [
  {
   "cell_type": "markdown",
   "metadata": {},
   "source": [
    "The unusual data (your puzzle input) consists of many reports, one report per line. Each report is a list of numbers called levels that are separated by spaces. For example:\n",
    "```\n",
    "7 6 4 2 1\n",
    "1 2 7 8 9\n",
    "9 7 6 2 1\n",
    "1 3 2 4 5\n",
    "8 6 4 4 1\n",
    "1 3 6 7 9\n",
    "```\n",
    "This example data contains six reports each containing five levels.\n",
    "\n",
    "The engineers are trying to figure out which reports are safe. The Red-Nosed reactor safety systems can only tolerate levels that are either gradually increasing or gradually decreasing. So, a report only counts as safe if both of the following are true:\n",
    "\n",
    "- The levels are either all increasing or all decreasing.\n",
    "- Any two adjacent levels differ by at least one and at most three.\n",
    "In the example above, the reports can be found safe or unsafe by checking those rules:\n",
    "\n",
    "- `7 6 4 2 1`: Safe because the levels are all decreasing by 1 or 2.\n",
    "- `1 2 7 8 9`: Unsafe because 2 7 is an increase of 5.\n",
    "- `9 7 6 2 1`: Unsafe because 6 2 is a decrease of 4.\n",
    "- `1 3 2 4 5`: Unsafe because 1 3 is increasing but 3 2 is decreasing.\n",
    "- `8 6 4 4 1`: Unsafe because 4 4 is neither an increase or a decrease.\n",
    "- `1 3 6 7 9`: Safe because the levels are all increasing by 1, 2, or 3.\n",
    "So, in this example, `2` reports are safe.\n",
    "\n",
    "Analyze the unusual data from the engineers. How many reports are safe?"
   ]
  },
  {
   "cell_type": "code",
   "execution_count": 13,
   "metadata": {},
   "outputs": [],
   "source": [
    "def fInput(vtest): \n",
    "    test_input = '''7 6 4 2 1\n",
    "1 2 7 8 9\n",
    "9 7 6 2 1\n",
    "1 3 2 4 5\n",
    "8 6 4 4 1\n",
    "1 3 6 7 9'''\n",
    "    \n",
    "    if vtest == 1:\n",
    "        with open('/Users/bllanderas/Library/CloudStorage/OneDrive-Deloitte(O365D)/Documents/VSCODE/00---Advent-of-Code/2024/data/day2.txt', 'r') as f:\n",
    "            test_input = f.read()\n",
    "\n",
    "    import re\n",
    "    input = re.split('\\n' ,test_input)\n",
    "\n",
    "    list1 = []\n",
    "    for i in input:\n",
    "        list1.append(i.split(' '))\n",
    "\n",
    "    return list1\n"
   ]
  },
  {
   "cell_type": "code",
   "execution_count": null,
   "metadata": {},
   "outputs": [
    {
     "data": {
      "text/plain": [
       "218"
      ]
     },
     "execution_count": 40,
     "metadata": {},
     "output_type": "execute_result"
    }
   ],
   "source": [
    "input1 = fInput(1)\n",
    "\n",
    "sol1 = 0\n",
    "for i in input1:\n",
    "    vDesc = 0\n",
    "    vAsc = 0\n",
    "    vSafe = 0\n",
    "    for j in range (1,len(i)):\n",
    "        if 1 <= (int(i[j]) - int(i[j-1])) <=3:\n",
    "            vAsc = 1\n",
    "        elif 1 <= (int(i[j-1]) - int(i[j]))<=3:\n",
    "            vDesc = 1\n",
    "        else:\n",
    "            vSafe = 1\n",
    "    if vAsc != vDesc and vSafe == 0:\n",
    "        sol1 += 1\n",
    "\n",
    "sol1\n",
    "#right answer 218\n"
   ]
  },
  {
   "cell_type": "markdown",
   "metadata": {},
   "source": [
    "Now, the same rules apply as before, except if removing a single level from an unsafe report would make it safe, the report instead counts as safe.\n",
    "\n",
    "More of the above example's reports are now safe:\n",
    "\n",
    "- `7 6 4 2 1`: Safe without removing any level.\n",
    "- `1 2 7 8 9`: Unsafe regardless of which level is removed.\n",
    "- `9 7 6 2 1`: Unsafe regardless of which level is removed.\n",
    "- `1 3 2 4 5`: Safe by removing the second level, 3.\n",
    "- `8 6 4 4 1`: Safe by removing the third level, 4.\n",
    "- `1 3 6 7 9`: Safe without removing any level.\n",
    "Thanks to the Problem Dampener, 4 reports are actually safe!\n",
    "\n",
    "Update your analysis by handling situations where the Problem Dampener can remove a single level from unsafe reports. How many reports are now safe?"
   ]
  },
  {
   "cell_type": "code",
   "execution_count": null,
   "metadata": {},
   "outputs": [
    {
     "data": {
      "text/plain": [
       "290"
      ]
     },
     "execution_count": 58,
     "metadata": {},
     "output_type": "execute_result"
    }
   ],
   "source": [
    "def fSafeCheck(vList):\n",
    "    vReturn = 0\n",
    "    vDesc = 0\n",
    "    vAsc = 0\n",
    "    vSafe = 0\n",
    "    i = vList\n",
    "    for j in range (1,len(i)):\n",
    "        if 1 <= (int(i[j]) - int(i[j-1])) <=3:\n",
    "            vAsc = 1\n",
    "        elif 1 <= (int(i[j-1]) - int(i[j]))<=3:\n",
    "            vDesc = 1\n",
    "        else:\n",
    "            vSafe = 1\n",
    "    if vAsc != vDesc and vSafe == 0:\n",
    "        vReturn = 1\n",
    "    return vReturn\n",
    "\n",
    "input1 = fInput(1)\n",
    "\n",
    "sol2 = 0\n",
    "for k in input1:\n",
    "    vCheck = fSafeCheck(k)\n",
    "    if vCheck == 1:\n",
    "       sol2 += 1\n",
    "    else:\n",
    "        for i in range (len(k)):\n",
    "            vString1 = k.copy()\n",
    "            vString1.pop(i)\n",
    "            vCheck = fSafeCheck(vString1)\n",
    "            if vCheck == 1:\n",
    "                sol2 += 1\n",
    "                vString1 = k\n",
    "                break\n",
    "            vString1 = k\n",
    "sol2\n",
    "#right answer 290\n"
   ]
  }
 ],
 "metadata": {
  "kernelspec": {
   "display_name": ".venv",
   "language": "python",
   "name": "python3"
  },
  "language_info": {
   "codemirror_mode": {
    "name": "ipython",
    "version": 3
   },
   "file_extension": ".py",
   "mimetype": "text/x-python",
   "name": "python",
   "nbconvert_exporter": "python",
   "pygments_lexer": "ipython3",
   "version": "3.11.10"
  }
 },
 "nbformat": 4,
 "nbformat_minor": 2
}

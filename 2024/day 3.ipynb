{
 "cells": [
  {
   "cell_type": "markdown",
   "metadata": {},
   "source": [
    "The computer appears to be trying to run a program, but its memory (your puzzle input) is **corrupted**. All of the instructions have been jumbled up!\n",
    "\n",
    "It seems like the goal of the program is just to **multiply some numbers**. It does that with instructions like mul(X,Y), where X and Y are each 1-3 digit numbers. For instance, mul(44,46) multiplies 44 by 46 to get a result of 2024. Similarly, mul(123,4) would multiply 123 by 4.\n",
    "\n",
    "However, because the program's memory has been corrupted, there are also many invalid characters that should be **ignored**, even if they look like part of a mul instruction. Sequences like mul(4*, mul(6,9!, ?(12,34), or mul ( 2 , 4 ) do nothing.\n",
    "\n",
    "For example, consider the following section of corrupted memory:\n",
    "\n",
    "x**mul(2,4)**%&mul[3,7]!@^do_not_**mul(5,5)**+mul(32,64]then(**mul(11,8)****mul(8,5)**)\n",
    "Only the four highlighted sections are real mul instructions. Adding up the result of each instruction produces 161 (2*4 + 5*5 + 11*8 + 8*5).\n",
    "\n",
    "Scan the corrupted memory for uncorrupted mul instructions. What do you get if you add up all of the results of the multiplications?"
   ]
  },
  {
   "cell_type": "code",
   "execution_count": 60,
   "metadata": {},
   "outputs": [],
   "source": [
    "def fInput(vtest): \n",
    "    test_input = '''xmul(2,4)&mul[3,7]!^don't()_mul(5,5)+mul(32,64](mul(11,8)undo()?mul(8,5))'''\n",
    "    \n",
    "    if vtest == 1:\n",
    "        with open('/Users/bllanderas/Library/CloudStorage/OneDrive-Deloitte(O365D)/Documents/VSCODE/00---Advent-of-Code/2024/data/day3.txt', 'r') as f:\n",
    "            test_input = f.read()\n",
    "\n",
    "    import re\n",
    "    input = re.split('\\n' ,test_input)\n",
    "    #input = test_input\n",
    "\n",
    "    list1 = []\n",
    "    for i in input:\n",
    "        list1.append(i.split(' '))\n",
    "\n",
    "    return test_input\n"
   ]
  },
  {
   "cell_type": "code",
   "execution_count": null,
   "metadata": {},
   "outputs": [
    {
     "data": {
      "text/plain": [
       "178886550"
      ]
     },
     "execution_count": 68,
     "metadata": {},
     "output_type": "execute_result"
    }
   ],
   "source": [
    "input1=fInput(1)\n",
    "\n",
    "import re\n",
    "pattern = 'mul\\(([0-9]+),([0-9]+)\\)'\n",
    "sol1 = 0\n",
    "\n",
    "\n",
    "# for i in input1:\n",
    "#     for j in i:\n",
    "#         a = re.findall(pattern, j)\n",
    "#         for k in a:\n",
    "#             sol1 += (int(k[0])*int(k[1]))\n",
    "\n",
    "a = re.findall(pattern, input1)\n",
    "for k in a:\n",
    "            sol1 += (int(k[0])*int(k[1]))\n",
    "sol1\n",
    "# right answer 178886550"
   ]
  },
  {
   "cell_type": "markdown",
   "metadata": {},
   "source": [
    "There are two new instructions you'll need to handle:\n",
    "\n",
    "- The do() instruction **enables** future mul instructions.\n",
    "- The don't() instruction **disables** future mul instructions.\n",
    "Only the **most recent** do() or don't() instruction applies. At the beginning of the program, mul instructions are **enabled**.\n",
    "\n",
    "For example:\n",
    "\n",
    "x**mul(2,4)**&mul[3,7]!^**don't()**_mul(5,5)+mul(32,64](mul(11,8)un**do()**?**mul(8,5)**)\n",
    "\n",
    "\n",
    "This corrupted memory is similar to the example from before, but this time the mul(5,5) and mul(11,8) instructions are **disabled** because there is a don't() instruction before them. The other mul instructions function normally, including the one at the end that gets re-**enabled** by a do() instruction.\n",
    "\n",
    "This time, the sum of the results is 48 (2*4 + 8*5).\n",
    "\n",
    "Handle the new instructions; **what do you get if you add up all of the results of just the enabled multiplications?**"
   ]
  },
  {
   "cell_type": "code",
   "execution_count": null,
   "metadata": {},
   "outputs": [
    {
     "data": {
      "text/plain": [
       "87163705"
      ]
     },
     "execution_count": 82,
     "metadata": {},
     "output_type": "execute_result"
    }
   ],
   "source": [
    "input1=fInput(1)\n",
    "\n",
    "import re\n",
    "pattern = \"(?s)don't\\(\\).*?do\\(\\)|(mul\\(([0-9]+),([0-9]+)\\))\"\n",
    "sol2 = 0\n",
    "\n",
    "\n",
    "for i in input1:\n",
    "    for j in i:\n",
    "        a = re.findall(pattern, j, flags=re.DOTALL)\n",
    "        for k in a:\n",
    "            if len(k[0]) > 0 :\n",
    "                sol2 += (int(k[1])*int(k[2]))\n",
    "a = re.findall(pattern, input1)\n",
    "for k in a:\n",
    "    if len(k[0]) > 0 :\n",
    "        sol2 += (int(k[1])*int(k[2]))\n",
    "sol2\n",
    "# 174423516 too high\n",
    "# 115638846 too high\n",
    "# 102559010 too high\n",
    "# 87163705 right answer\n"
   ]
  }
 ],
 "metadata": {
  "kernelspec": {
   "display_name": ".venv",
   "language": "python",
   "name": "python3"
  },
  "language_info": {
   "codemirror_mode": {
    "name": "ipython",
    "version": 3
   },
   "file_extension": ".py",
   "mimetype": "text/x-python",
   "name": "python",
   "nbconvert_exporter": "python",
   "pygments_lexer": "ipython3",
   "version": "3.11.10"
  }
 },
 "nbformat": 4,
 "nbformat_minor": 2
}

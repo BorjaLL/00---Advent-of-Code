{
 "cells": [
  {
   "cell_type": "markdown",
   "metadata": {},
   "source": [
    "by holding the two lists up **side by side** (your puzzle input), it quickly becomes clear that the lists aren't very similar. Maybe you can help The Historians reconcile their lists?\n",
    "\n",
    "For example:\n",
    "```\n",
    "3   4\n",
    "4   3\n",
    "2   5\n",
    "1   3\n",
    "3   9\n",
    "3   3\n",
    "```\n",
    "\n",
    "Maybe the lists are only off by a small amount! To find out, pair up the numbers and measure how far apart they are. Pair up the **smallest number in the left list** with the **smallest number in the right list**, then the second-smallest left number with the **second-smallest right number**, and so on.\n",
    "\n",
    "Within each pair, figure out **how far apart** the two numbers are; you'll need to **add up all of those distances**. For example, if you pair up a 3 from the left list with a 7 from the right list, the distance apart is 4; if you pair up a 9 with a 3, the distance apart is 6.\n",
    "\n",
    "In the example list above, the pairs and distances would be as follows:\n",
    "\n",
    "- The smallest number in the left list is 1, and the smallest number in the right list is 3. The distance between them is 2.\n",
    "- The second-smallest number in the left list is 2, and the second-smallest number in the right list is another ```3```. The distance between them is `1.`\n",
    "- The third-smallest number in both lists is 3, so the distance between them is 0.\n",
    "- The next numbers to pair up are 3 and 4, a distance of 1.\n",
    "- The fifth-smallest numbers in each list are 3 and 5, a distance of 2.\n",
    "- Finally, the largest number in the left list is 4, while the largest number in the right list is 9; these are a distance 5 apart.\n",
    "\n",
    "To find the **total distance** between the left list and the right list, add up the distances between all of the pairs you found. In the example above, this is ```2 + 1 + 0 + 1 + 2 + 5```, a total distance of ```11```!\n",
    "\n",
    "Your actual left and right lists contain many location IDs. **What is the total distance between your lists?**\n"
   ]
  },
  {
   "cell_type": "code",
   "execution_count": 61,
   "metadata": {},
   "outputs": [],
   "source": [
    "def fInput(vtest): \n",
    "    test_input = '''3   4\n",
    "4   3\n",
    "2   5\n",
    "1   3\n",
    "3   9\n",
    "3   3'''\n",
    "    \n",
    "    if vtest == 0:\n",
    "        with open('/Users/bllanderas/Library/CloudStorage/OneDrive-Deloitte(O365D)/Documents/VSCODE/00---Advent-of-Code/2024/data/day1.txt', 'r') as f:\n",
    "            test_input = f.read()\n",
    "\n",
    "    import re\n",
    "    input = re.split('\\n|   ' ,test_input)\n",
    "    vlist1 = 1\n",
    "\n",
    "    list1 = []\n",
    "    list2 = []\n",
    "    for i in input:\n",
    "        if vlist1 == 1:\n",
    "            list1.append(int(i))\n",
    "            vlist1 = 0\n",
    "            continue\n",
    "        if vlist1 == 0:\n",
    "            list2.append(int(i))\n",
    "            vlist1 = 1\n",
    "            continue\n",
    "    list1.sort()\n",
    "    list2.sort()\n",
    "    return list1,list2\n"
   ]
  },
  {
   "cell_type": "code",
   "execution_count": null,
   "metadata": {},
   "outputs": [
    {
     "data": {
      "text/plain": [
       "11"
      ]
     },
     "execution_count": 63,
     "metadata": {},
     "output_type": "execute_result"
    }
   ],
   "source": [
    "list1,list2 = fInput(1)\n",
    "\n",
    "\n",
    "sol1 = 0\n",
    "for i in range(len(list1)):\n",
    "    sol1 += abs(list1[i]-list2[i])\n",
    "\n",
    "sol1\n",
    "#right answer 11"
   ]
  },
  {
   "cell_type": "markdown",
   "metadata": {},
   "source": [
    "This time, you'll need to figure out exactly how often each number from the left list appears in the right list. Calculate a total **similarity score** by adding up each number in the left list after multiplying it by the number of times that number appears in the right list.\n",
    "\n",
    "Here are the same example lists again:\n",
    "```\n",
    "3   4\n",
    "4   3\n",
    "2   5\n",
    "1   3\n",
    "3   9\n",
    "3   3\n",
    "```\n",
    "For these example lists, here is the process of finding the similarity score:\n",
    "\n",
    "- The first number in the left list is `3`. It appears in the right list three times, so the similarity score increases by 3 * 3 = 9.\n",
    "- The second number in the left list is 4. It appears in the right list once, so the similarity score increases by 4 * 1 = 4.\n",
    "- The third number in the left list is 2. It does not appear in the right list, so the similarity score does not increase (2 * 0 = 0).\n",
    "- The fourth number, 1, also does not appear in the right list.\n",
    "- The fifth number, 3, appears in the right list three times; the similarity score increases by 9.\n",
    "- The last number, 3, appears in the right list three times; the similarity score again increases by 9.\n",
    "  \n",
    "So, for these example lists, the similarity score at the end of this process is `31 (9 + 4 + 0 + 0 + 9 + 9).`\n",
    "\n",
    "Once again consider your left and right lists. **What is their similarity score?**"
   ]
  },
  {
   "cell_type": "code",
   "execution_count": null,
   "metadata": {},
   "outputs": [
    {
     "data": {
      "text/plain": [
       "26859182"
      ]
     },
     "execution_count": 65,
     "metadata": {},
     "output_type": "execute_result"
    }
   ],
   "source": [
    "list1,list2 = fInput(0)\n",
    "sol2 = 0\n",
    "for i in list1:\n",
    "    vmult = list2.count(i)\n",
    "    sol2 += i*vmult\n",
    "sol2\n",
    "# right answer 26859182"
   ]
  }
 ],
 "metadata": {
  "kernelspec": {
   "display_name": ".venv",
   "language": "python",
   "name": "python3"
  },
  "language_info": {
   "codemirror_mode": {
    "name": "ipython",
    "version": 3
   },
   "file_extension": ".py",
   "mimetype": "text/x-python",
   "name": "python",
   "nbconvert_exporter": "python",
   "pygments_lexer": "ipython3",
   "version": "3.11.10"
  }
 },
 "nbformat": 4,
 "nbformat_minor": 2
}
